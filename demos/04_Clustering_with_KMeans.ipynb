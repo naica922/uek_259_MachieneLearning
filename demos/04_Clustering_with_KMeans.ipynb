{
  "cells": [
    {
      "cell_type": "markdown",
      "metadata": {
        "id": "view-in-github",
        "colab_type": "text"
      },
      "source": [
        "<a href=\"https://colab.research.google.com/github/naica922/uek_259_MachieneLearning/blob/main/demos/04_Clustering_with_KMeans.ipynb\" target=\"_parent\"><img src=\"https://colab.research.google.com/assets/colab-badge.svg\" alt=\"Open In Colab\"/></a>"
      ]
    },
    {
      "metadata": {
        "id": "ff0dcfe3fdb24fdb",
        "colab": {
          "base_uri": "https://localhost:8080/",
          "height": 639
        },
        "outputId": "56d4e8a4-41ca-4e4c-be6d-849625cdd363"
      },
      "cell_type": "code",
      "outputs": [
        {
          "output_type": "stream",
          "name": "stdout",
          "text": [
            "[[-10.14090825  -2.92036477]\n",
            " [-10.84916816  -2.95246712]\n",
            " [ -7.8710604   -8.10416641]\n",
            " [  0.53113982   2.51012895]\n",
            " [ -5.99589621  -8.36298104]\n",
            " [  0.2450988    5.51754657]\n",
            " [ -9.37972697  -4.13752487]\n",
            " [ -7.20423399  -8.88176559]\n",
            " [ -9.68744022  -6.04759636]\n",
            " [ -6.63896201  -8.10414771]]\n",
            "[1 1 2 0 2 0 1 2 1 2]\n"
          ]
        },
        {
          "output_type": "execute_result",
          "data": {
            "text/plain": [
              "True"
            ]
          },
          "metadata": {},
          "execution_count": 13
        },
        {
          "output_type": "display_data",
          "data": {
            "text/plain": [
              "<Figure size 640x480 with 1 Axes>"
            ],
            "image/png": "[encoded data removed]"
          },
          "metadata": {}
        }
      ],
      "execution_count": 13,
      "source": [
        "import seaborn as sns #for plotting\n",
        "from sklearn.datasets import make_blobs #data generator\n",
        "import numpy as np\n",
        "\n",
        "# automatically generate a random dataset with underlying clusters. You can play around with the parameters of this generator function to test your algorithm.\n",
        "# true labels are the actual group a point belongs to. you can use them later to check the quality of your algorithm\n",
        "\n",
        "import matplotlib.pyplot as plt\n",
        "import seaborn as sns\n",
        "from sklearn.datasets import make_blobs\n",
        "# automatically generate random dataset\n",
        "\n",
        "features, true_labels = make_blobs(\n",
        "    n_samples=500,\n",
        "    centers=3,\n",
        "    cluster_std=1,\n",
        "    random_state=1\n",
        ")\n",
        "\n",
        "print(features[:10])\n",
        "print( true_labels[:10])\n",
        "fig, ax = plt.subplots()\n",
        "ax.scatter(x=features[:,0], y=features[:,1], s=5)\n",
        "           #,c=true_labels)\n",
        "plt.plot()\n",
        "# visualize the data with the true labels to get an overview of the data\n"
      ],
      "id": "ff0dcfe3fdb24fdb"
    },
    {
      "metadata": {
        "id": "ce0f274c94d5ec81"
      },
      "cell_type": "code",
      "outputs": [],
      "execution_count": 15,
      "source": [
        "# implement the kmeans algorithm\n",
        "\n",
        "# and return a 1D array of estimated group membership of each point, and the coordinates of the cluster centers.\n",
        "def k_means(featureArray, nGroups):\n",
        "\n",
        "# Array of 2D points called clusterCenters\n",
        "    clusterCenters = np.array([[0, 0], [1, 1], [2, 2], [3, 3]])\n",
        "    if nGroups  == 3:\n",
        "      clusterCenters\n",
        "      print(clusterCenters)\n",
        "    else:\n",
        "      print(\"The init failed\")\n",
        "\n",
        "# ClusterAssignments List smae length as featureArray\n",
        "# Track the membership\n",
        "    clusterAssignments = np.empty(featureArray.shape[0])\n",
        "    print('Cluster Assignments')\n",
        "    print(clusterAssignments)\n",
        "\n",
        "\n",
        "# Todo: implement the rest of the k-means algorithm\n",
        "    return clusterAssignments, clusterCenters"
      ],
      "id": "ce0f274c94d5ec81"
    },
    {
      "metadata": {
        "id": "23fc23d22a9d8c7d"
      },
      "cell_type": "code",
      "outputs": [],
      "execution_count": null,
      "source": [
        "# apply k means to your dataset to cluster the data\n",
        "\n",
        "estimated_labels, cluster_centers = k_means(features, 4)"
      ],
      "id": "23fc23d22a9d8c7d"
    },
    {
      "metadata": {
        "id": "aa192677d0202428"
      },
      "cell_type": "code",
      "outputs": [],
      "execution_count": null,
      "source": [
        "# visualize your results\n",
        "\n",
        "# Return 1D array of estimated group membership of each point\n",
        "print('Estimated group membership of each oint')\n",
        "\n",
        "# coordinates of the cluster center\n",
        "print('Cluster center coordinates')"
      ],
      "id": "aa192677d0202428"
    }
  ],
  "metadata": {
    "interpreter": {
      "hash": "37f3d96c2743890112b2be8b133f5ca7ad8832e517d818d8378c6945143fe883"
    },
    "kernelspec": {
      "display_name": "uk259_kernel",
      "language": "python",
      "name": "python3"
    },
    "language_info": {
      "codemirror_mode": {
        "name": "ipython",
        "version": 3
      },
      "file_extension": ".py",
      "mimetype": "text/x-python",
      "name": "python",
      "nbconvert_exporter": "python",
      "pygments_lexer": "ipython3",
      "version": "3.9.9"
    },
    "colab": {
      "provenance": [],
      "include_colab_link": true
    }
  },
  "nbformat": 4,
  "nbformat_minor": 5
}